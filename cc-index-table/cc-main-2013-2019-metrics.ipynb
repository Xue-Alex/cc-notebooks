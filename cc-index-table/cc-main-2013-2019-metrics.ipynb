{
 "cells": [
  {
   "cell_type": "markdown",
   "metadata": {},
   "source": [
    "# Metrics of 2013 – 2019 Main Crawls\n",
    "\n",
    "\n",
    "In December 2019 the Common Crawl's [columnar index](https://commoncrawl.org/2018/03/index-to-warc-files-and-urls-in-columnar-format/) has been extended to include all WARC files released since 2013. Some metrics about the 65 monthly crawls are calculated to verify the index. [AWS Athena](https://aws.amazon.com/athena/) is used for the SQL aggregations. All Athena results are kept in the folder [data/](./data/) from where they are read for visualization and further processing."
   ]
  },
  {
   "cell_type": "markdown",
   "metadata": {},
   "source": [
    "### Count Page Captures per Monthly Crawl and Subset\n",
    "\n",
    "```sql\n",
    "SELECT COUNT(*) as n_captures,\n",
    "       crawl,\n",
    "       subset\n",
    "FROM \"ccindex\".\"ccindex\"\n",
    "GROUP BY crawl, subset\n",
    "ORDER BY crawl, subset ASC;\n",
    "```"
   ]
  },
  {
   "cell_type": "code",
   "execution_count": 1,
   "metadata": {},
   "outputs": [
    {
     "data": {
      "text/plain": [
       "197.994100154"
      ]
     },
     "execution_count": 1,
     "metadata": {},
     "output_type": "execute_result"
    }
   ],
   "source": [
    "import pandas as pd\n",
    "\n",
    "df = pd.read_csv('data/cc-main-2013-2019-data-set-counts.csv')\n",
    "df['n_captures'].sum()/10**9"
   ]
  },
  {
   "cell_type": "markdown",
   "metadata": {},
   "source": [
    "Almost 200 billion page captures. That's a lot, but this number includes redirects, 404s and robots.txt captures. To get the number of successful fetches only, we need to sum up by subset. The subset \"warc\" includes only successful fetches. The [\"robotstxt\" and \"crawldiagnostics\" subsets](https://commoncrawl.org/2016/09/robotstxt-and-404-redirect-data-sets/) have been introduced in 2016 and contain robots.txt files resp. captures with HTTP response status codes other than 200."
   ]
  },
  {
   "cell_type": "code",
   "execution_count": 2,
   "metadata": {},
   "outputs": [
    {
     "data": {
      "text/html": [
       "<div>\n",
       "<style scoped>\n",
       "    .dataframe tbody tr th:only-of-type {\n",
       "        vertical-align: middle;\n",
       "    }\n",
       "\n",
       "    .dataframe tbody tr th {\n",
       "        vertical-align: top;\n",
       "    }\n",
       "\n",
       "    .dataframe thead th {\n",
       "        text-align: right;\n",
       "    }\n",
       "</style>\n",
       "<table border=\"1\" class=\"dataframe\">\n",
       "  <thead>\n",
       "    <tr style=\"text-align: right;\">\n",
       "      <th></th>\n",
       "      <th>n_captures</th>\n",
       "    </tr>\n",
       "    <tr>\n",
       "      <th>subset</th>\n",
       "      <th></th>\n",
       "    </tr>\n",
       "  </thead>\n",
       "  <tbody>\n",
       "    <tr>\n",
       "      <th>crawldiagnostics</th>\n",
       "      <td>25629950925</td>\n",
       "    </tr>\n",
       "    <tr>\n",
       "      <th>robotstxt</th>\n",
       "      <td>4803256615</td>\n",
       "    </tr>\n",
       "    <tr>\n",
       "      <th>warc</th>\n",
       "      <td>167560892614</td>\n",
       "    </tr>\n",
       "  </tbody>\n",
       "</table>\n",
       "</div>"
      ],
      "text/plain": [
       "                    n_captures\n",
       "subset                        \n",
       "crawldiagnostics   25629950925\n",
       "robotstxt           4803256615\n",
       "warc              167560892614"
      ]
     },
     "execution_count": 2,
     "metadata": {},
     "output_type": "execute_result"
    }
   ],
   "source": [
    "df.groupby(['subset']).sum()"
   ]
  },
  {
   "cell_type": "markdown",
   "metadata": {},
   "source": [
    "### Unique URLs by Top-Level Domain\n",
    "\n",
    "To get approximate numbers of unique URLs by top-level domain in a reasonable speed we use [Presto's HyperLogLog functions](https://prestodb.io/docs/current/functions/hyperloglog.html), here for the `.edu` TLD. We also count the number of unique hosts and domains, and also the total number of page captures:\n",
    "\n",
    "```sql\n",
    "SELECT crawl,\n",
    "       COUNT(*) AS n_captures,\n",
    "       cardinality(approx_set(url)) AS uniq_urls_estim,\n",
    "       COUNT(DISTINCT url_host_name) AS uniq_hosts,\n",
    "       COUNT(DISTINCT url_host_registered_domain) AS uniq_domains,\n",
    "       to_base64(CAST(approx_set(url) AS varbinary)) AS uniq_urls_hll\n",
    "FROM \"ccindex\".\"ccindex\"\n",
    "WHERE subset = 'warc'\n",
    "  AND url_host_tld = 'edu'\n",
    "GROUP BY crawl\n",
    "ORDER BY crawl ASC;\n",
    "```"
   ]
  },
  {
   "cell_type": "code",
   "execution_count": 3,
   "metadata": {},
   "outputs": [
    {
     "data": {
      "text/plain": [
       "2.834692397"
      ]
     },
     "execution_count": 3,
     "metadata": {},
     "output_type": "execute_result"
    }
   ],
   "source": [
    "df = pd.read_csv('data/cc-main-2013-2019-edu-tld-uniq-urls-hll.csv')\n",
    "df['n_captures'].sum()/10**9"
   ]
  },
  {
   "cell_type": "markdown",
   "metadata": {},
   "source": [
    "There are 2.8 billion pages captures only from sites in the `.edu` top-level domain. How are they distributed over time?"
   ]
  },
  {
   "cell_type": "code",
   "execution_count": 4,
   "metadata": {},
   "outputs": [
    {
     "data": {
      "text/plain": [
       "<matplotlib.axes._subplots.AxesSubplot at 0x7fc14aff7a50>"
      ]
     },
     "execution_count": 4,
     "metadata": {},
     "output_type": "execute_result"
    }
   ],
   "source": [
    "df.plot.line(x='crawl', y=['n_captures', 'uniq_urls_estim'])"
   ]
  },
  {
   "cell_type": "markdown",
   "metadata": {},
   "source": [
    "Two things are immediately visible in the plot: first, there duplicate captures of the same URL during the first years. Second, over time the number of unique URLs per month from the `.edu` TLD has decreased. But it has again slightly increased in recent crawls."
   ]
  },
  {
   "cell_type": "markdown",
   "metadata": {},
   "source": [
    "#### Merging HyperLogLogs and Aggregation by Year\n",
    "\n",
    "Monthly crawls overlap only partially and recently the crawls have been improved to achieve a better coverage in the breadth when multiple monthly crawls are combined. To measure the coverage we aggregate by year. We could just replace `crawl` by `substr(crawl, 9, 4)` in the last SQL query. However, because the HyperLogLog sketches are stored in the result we could do it in a smarter way:\n",
    "1. import the [result of the previous query](./data/cc-main-2013-2019-uniq-urls-hll.csv) into Athena as a new table\n",
    "2. aggregate by year using the monthly HyperLogLog sketches\n",
    "\n",
    "We start with the table import:\n",
    "```sql\n",
    "-- import Athena result file using OpenCSVSerde\n",
    "--  see https://docs.aws.amazon.com/athena/latest/ug/csv.html\n",
    "-- NOTE:\n",
    "--- * need to remove the header line (does not fit into the schema)\n",
    "--- * place the CSV result file into an empty folder on S3 \n",
    "CREATE EXTERNAL TABLE IF NOT EXISTS ccindex.hll20132019 (\n",
    "  `crawl` string,\n",
    "  `n_captures` bigint,\n",
    "  `uniq_urls_estim` bigint,\n",
    "  `uniq_hosts` bigint,\n",
    "  `uniq_domains` bigint,\n",
    "  `uniq_urls_hll` string \n",
    ")\n",
    "ROW FORMAT SERDE 'org.apache.hadoop.hive.serde2.OpenCSVSerde'\n",
    "WITH SERDEPROPERTIES (\n",
    "   'separatorChar' = ',',\n",
    "   'quoteChar'     = '\"',\n",
    "   'escapeChar'    = '\"'\n",
    ")\n",
    "LOCATION 's3://my-bucket/uniq-urls-hll/'\n",
    "TBLPROPERTIES ('has_encrypted_data'='false');\n",
    "```\n",
    "\n",
    "Then we run the aggregation by year:\n",
    "```sql\n",
    "SELECT substr(crawl, 9, 4) AS year,\n",
    "       COUNT(*) AS n_crawls,\n",
    "       SUM(n_captures) AS n_captures,\n",
    "       cardinality(merge(cast(from_base64(uniq_urls_hll) AS HyperLogLog))) AS uniq_urls_estim\n",
    "FROM ccindex.hll20132019\n",
    "GROUP BY substr(crawl, 9, 4)\n",
    "ORDER BY substr(crawl, 9, 4) ASC;\n",
    "```"
   ]
  },
  {
   "cell_type": "code",
   "execution_count": 5,
   "metadata": {},
   "outputs": [
    {
     "data": {
      "text/plain": [
       "<matplotlib.axes._subplots.AxesSubplot at 0x7fc149d35a90>"
      ]
     },
     "execution_count": 5,
     "metadata": {},
     "output_type": "execute_result"
    },
    {
     "data": {
      "image/png": "[encoded data removed]",
      "text/plain": [
       "<Figure size 432x288 with 1 Axes>"
      ]
     },
     "metadata": {
      "needs_background": "light"
     },
     "output_type": "display_data"
    }
   ],
   "source": [
    "df = pd.read_csv('data/cc-main-2013-2019-edu-tld-uniq-urls-hll-by-year-merged.csv')\n",
    "df.plot.line(x='year', y=['n_captures', 'uniq_urls_estim'])"
   ]
  },
  {
   "cell_type": "code",
   "execution_count": 6,
   "metadata": {},
   "outputs": [
    {
     "data": {
      "text/html": [
       "<div>\n",
       "<style scoped>\n",
       "    .dataframe tbody tr th:only-of-type {\n",
       "        vertical-align: middle;\n",
       "    }\n",
       "\n",
       "    .dataframe tbody tr th {\n",
       "        vertical-align: top;\n",
       "    }\n",
       "\n",
       "    .dataframe thead th {\n",
       "        text-align: right;\n",
       "    }\n",
       "</style>\n",
       "<table border=\"1\" class=\"dataframe\">\n",
       "  <thead>\n",
       "    <tr style=\"text-align: right;\">\n",
       "      <th></th>\n",
       "      <th>year</th>\n",
       "      <th>n_crawls</th>\n",
       "      <th>n_captures</th>\n",
       "      <th>uniq_urls_estim</th>\n",
       "    </tr>\n",
       "  </thead>\n",
       "  <tbody>\n",
       "    <tr>\n",
       "      <th>0</th>\n",
       "      <td>2013</td>\n",
       "      <td>2</td>\n",
       "      <td>117484962</td>\n",
       "      <td>77307027</td>\n",
       "    </tr>\n",
       "    <tr>\n",
       "      <th>1</th>\n",
       "      <td>2014</td>\n",
       "      <td>8</td>\n",
       "      <td>745488582</td>\n",
       "      <td>90549574</td>\n",
       "    </tr>\n",
       "    <tr>\n",
       "      <th>2</th>\n",
       "      <td>2015</td>\n",
       "      <td>10</td>\n",
       "      <td>599500761</td>\n",
       "      <td>87944690</td>\n",
       "    </tr>\n",
       "    <tr>\n",
       "      <th>3</th>\n",
       "      <td>2016</td>\n",
       "      <td>9</td>\n",
       "      <td>421122505</td>\n",
       "      <td>79832061</td>\n",
       "    </tr>\n",
       "    <tr>\n",
       "      <th>4</th>\n",
       "      <td>2017</td>\n",
       "      <td>12</td>\n",
       "      <td>381319425</td>\n",
       "      <td>125164575</td>\n",
       "    </tr>\n",
       "    <tr>\n",
       "      <th>5</th>\n",
       "      <td>2018</td>\n",
       "      <td>12</td>\n",
       "      <td>274875118</td>\n",
       "      <td>116145047</td>\n",
       "    </tr>\n",
       "    <tr>\n",
       "      <th>6</th>\n",
       "      <td>2019</td>\n",
       "      <td>12</td>\n",
       "      <td>294901044</td>\n",
       "      <td>199290447</td>\n",
       "    </tr>\n",
       "  </tbody>\n",
       "</table>\n",
       "</div>"
      ],
      "text/plain": [
       "   year  n_crawls  n_captures  uniq_urls_estim\n",
       "0  2013         2   117484962         77307027\n",
       "1  2014         8   745488582         90549574\n",
       "2  2015        10   599500761         87944690\n",
       "3  2016         9   421122505         79832061\n",
       "4  2017        12   381319425        125164575\n",
       "5  2018        12   274875118        116145047\n",
       "6  2019        12   294901044        199290447"
      ]
     },
     "execution_count": 6,
     "metadata": {},
     "output_type": "execute_result"
    }
   ],
   "source": [
    "df"
   ]
  },
  {
   "cell_type": "markdown",
   "metadata": {},
   "source": [
    "The number of unique URLs contained in all data sets of a single year has increased and reached almost 200 million in 2019.\n",
    "\n",
    "But how is the aggregated coverage for sites?  We could add also HyperLogLog sketches for hosts and domains but for simplicity we modify the previous query and run it on the entire table:\n",
    "```sql\n",
    "SELECT substr(crawl, 9, 4) as year,\n",
    "       COUNT(*) AS n_captures,\n",
    "       cardinality(approx_set(url)) AS uniq_urls_estim,\n",
    "       COUNT(DISTINCT url_host_name) AS uniq_hosts,\n",
    "       COUNT(DISTINCT url_host_registered_domain) AS uniq_domains\n",
    "FROM \"ccindex\".\"ccindex\"\n",
    "WHERE subset = 'warc'\n",
    "  AND url_host_tld = 'edu'\n",
    "GROUP BY substr(crawl, 9, 4)\n",
    "ORDER BY substr(crawl, 9, 4) ASC;\n",
    "```"
   ]
  },
  {
   "cell_type": "code",
   "execution_count": 7,
   "metadata": {},
   "outputs": [
    {
     "data": {
      "text/html": [
       "<div>\n",
       "<style scoped>\n",
       "    .dataframe tbody tr th:only-of-type {\n",
       "        vertical-align: middle;\n",
       "    }\n",
       "\n",
       "    .dataframe tbody tr th {\n",
       "        vertical-align: top;\n",
       "    }\n",
       "\n",
       "    .dataframe thead th {\n",
       "        text-align: right;\n",
       "    }\n",
       "</style>\n",
       "<table border=\"1\" class=\"dataframe\">\n",
       "  <thead>\n",
       "    <tr style=\"text-align: right;\">\n",
       "      <th></th>\n",
       "      <th>year</th>\n",
       "      <th>n_captures</th>\n",
       "      <th>uniq_urls_estim</th>\n",
       "      <th>uniq_hosts</th>\n",
       "      <th>uniq_domains</th>\n",
       "    </tr>\n",
       "  </thead>\n",
       "  <tbody>\n",
       "    <tr>\n",
       "      <th>0</th>\n",
       "      <td>2013</td>\n",
       "      <td>117484962</td>\n",
       "      <td>77307027</td>\n",
       "      <td>149924</td>\n",
       "      <td>5962</td>\n",
       "    </tr>\n",
       "    <tr>\n",
       "      <th>1</th>\n",
       "      <td>2014</td>\n",
       "      <td>745488582</td>\n",
       "      <td>90549574</td>\n",
       "      <td>164248</td>\n",
       "      <td>6046</td>\n",
       "    </tr>\n",
       "    <tr>\n",
       "      <th>2</th>\n",
       "      <td>2015</td>\n",
       "      <td>599500761</td>\n",
       "      <td>87944690</td>\n",
       "      <td>158094</td>\n",
       "      <td>5985</td>\n",
       "    </tr>\n",
       "    <tr>\n",
       "      <th>3</th>\n",
       "      <td>2016</td>\n",
       "      <td>421122505</td>\n",
       "      <td>79832061</td>\n",
       "      <td>181581</td>\n",
       "      <td>6245</td>\n",
       "    </tr>\n",
       "    <tr>\n",
       "      <th>4</th>\n",
       "      <td>2017</td>\n",
       "      <td>381319425</td>\n",
       "      <td>125164575</td>\n",
       "      <td>232770</td>\n",
       "      <td>6322</td>\n",
       "    </tr>\n",
       "    <tr>\n",
       "      <th>5</th>\n",
       "      <td>2018</td>\n",
       "      <td>274875118</td>\n",
       "      <td>116145047</td>\n",
       "      <td>232067</td>\n",
       "      <td>6310</td>\n",
       "    </tr>\n",
       "    <tr>\n",
       "      <th>6</th>\n",
       "      <td>2019</td>\n",
       "      <td>294901044</td>\n",
       "      <td>199290447</td>\n",
       "      <td>215421</td>\n",
       "      <td>6070</td>\n",
       "    </tr>\n",
       "  </tbody>\n",
       "</table>\n",
       "</div>"
      ],
      "text/plain": [
       "   year  n_captures  uniq_urls_estim  uniq_hosts  uniq_domains\n",
       "0  2013   117484962         77307027      149924          5962\n",
       "1  2014   745488582         90549574      164248          6046\n",
       "2  2015   599500761         87944690      158094          5985\n",
       "3  2016   421122505         79832061      181581          6245\n",
       "4  2017   381319425        125164575      232770          6322\n",
       "5  2018   274875118        116145047      232067          6310\n",
       "6  2019   294901044        199290447      215421          6070"
      ]
     },
     "execution_count": 7,
     "metadata": {},
     "output_type": "execute_result"
    }
   ],
   "source": [
    "df = pd.read_csv('data/cc-main-2013-2019-edu-tld-uniq-urls-hll-by-year.csv')\n",
    "df"
   ]
  },
  {
   "cell_type": "markdown",
   "metadata": {},
   "source": [
    "The HyperLogLog cardinality estimates for the URLs give the same number, so we can be sure that the (de)serialization works.\n",
    "\n",
    "Regarding the number of hosts and domains covered per year: the number of hosts has increased over time while the number of domains has always been around 6,000."
   ]
  },
  {
   "cell_type": "code",
   "execution_count": null,
   "metadata": {},
   "outputs": [],
   "source": []
  }
 ],
 "metadata": {
  "kernelspec": {
   "display_name": "Python 3",
   "language": "python",
   "name": "python3"
  },
  "language_info": {
   "codemirror_mode": {
    "name": "ipython",
    "version": 3
   },
   "file_extension": ".py",
   "mimetype": "text/x-python",
   "name": "python",
   "nbconvert_exporter": "python",
   "pygments_lexer": "ipython3",
   "version": "3.7.5"
  }
 },
 "nbformat": 4,
 "nbformat_minor": 2
}
